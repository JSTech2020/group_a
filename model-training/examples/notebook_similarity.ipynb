{
 "cells": [
  {
   "cell_type": "markdown",
   "metadata": {},
   "source": [
    "\n",
    "<p class=\"h4 alert alert-danger\">\n",
    "    Please make sure that the pretrained model exists in the path \"./models\"\n",
    "</p>\n"
   ]
  },
  {
   "cell_type": "markdown",
   "metadata": {},
   "source": [
    "<p class=\"alert alert-danger\">\n",
    "Also make sure that the BERT server is running and has access to the pretrained model. We can run the BERT server by writing the following command in the command-line:\n",
    "</p>\n",
    "<code>> cd [ repo_dir ]/model_training/models</code>\n",
    "<br />\n",
    "<code>> bert-serving-start -model_dir ./multi_cased_L-12_H-768_A-12/ -num_worker=1 -show_tokens_to_client</code>\n"
   ]
  },
  {
   "cell_type": "code",
   "execution_count": null,
   "metadata": {},
   "outputs": [],
   "source": [
    "# import required libraries\n",
    "import pandas as pd\n",
    "import numpy as np\n",
    "from pymongo import MongoClient\n",
    "import bert_serving.client as bert\n",
    "from sklearn.metrics.pairwise import cosine_similarity"
   ]
  },
  {
   "cell_type": "code",
   "execution_count": null,
   "metadata": {},
   "outputs": [],
   "source": [
    "# define params for db operations\n",
    "uri = 'mongodb://localhost:27017/'\n",
    "database = 'zs_database'\n",
    "collection_fetch = 'autotags'\n",
    "collection_push = 'similarities'\n",
    "\n",
    "# initiate variables\n",
    "df = pd.DataFrame()\n",
    "db = object\n",
    "\n",
    "# connect to db. TODO: Handle exception cases\n",
    "client = MongoClient(uri)\n",
    "db = client[database]\n",
    "\n",
    "# retrieving required data\n",
    "df = pd.DataFrame(list(db[collection_fetch].find({}, {\"_id\":0, \"lemmas\": 1, \"story_id\": 1})))\n",
    "\n",
    "df"
   ]
  },
  {
   "cell_type": "code",
   "execution_count": null,
   "metadata": {},
   "outputs": [],
   "source": [
    "# create bert client\n",
    "client = bert.BertClient(check_length=False)\n",
    "\n",
    "# encode token-lemmas from our data into bert-vectors\n",
    "vectors = client.encode(df['lemmas'].values.tolist(), show_tokens=False, is_tokenized=True)\n",
    "\n",
    "# calculate cosine similarities for all vectors. This can take a while...\n",
    "cos_sim = cosine_similarity(vectors)\n",
    "\n",
    "cos_sim"
   ]
  },
  {
   "cell_type": "code",
   "execution_count": null,
   "metadata": {},
   "outputs": [],
   "source": [
    "# list of all story ids in order of retrieval\n",
    "id_list = df['story_id'].values.tolist()\n",
    "\n",
    "# check if push collection(autotags) already exists, if so, remove(drop) the collection for now\n",
    "# TODO: handle exception\n",
    "if collection_push in db.list_collection_names():\n",
    "    collection = db[collection_push]\n",
    "    if collection.estimated_document_count() != 0:\n",
    "        print('Dropping the old collection (' + collection_push + ') ...')\n",
    "        collection.drop()\n",
    "\n",
    "collection = db[collection_push]\n",
    "\n",
    "print(\"Top five similar story ids: \")\n",
    "\n",
    "#iterate through the story_ids and find/store top 5 related story_ids\n",
    "for i in range(0, len(id_list)):\n",
    "    row = cos_sim[i]\n",
    "    sort_five = np.argsort(-row)[:6]\n",
    "    similar_story_ids = []\n",
    "    for x in sort_five:\n",
    "        # as each story would be completely similar to itself, we need to remove its id from the list\n",
    "        if x!=i:\n",
    "            similar_story_ids.append(id_list[x])\n",
    "    print(\"For story id - \" + str(id_list[i]) + \":\", end=\" \")\n",
    "    print(similar_story_ids)\n",
    "    \n",
    "    # insert related story_ids to database\n",
    "    # TODO: exception handling\n",
    "    collection.insert_one({\n",
    "        \"story_id\" : id_list[i],\n",
    "        \"related_story_id\" : similar_story_ids \n",
    "    })"
   ]
  },
  {
   "cell_type": "code",
   "execution_count": null,
   "metadata": {},
   "outputs": [],
   "source": []
  },
  {
   "cell_type": "code",
   "execution_count": null,
   "metadata": {},
   "outputs": [],
   "source": []
  },
  {
   "cell_type": "code",
   "execution_count": null,
   "metadata": {},
   "outputs": [],
   "source": []
  }
 ],
 "metadata": {
  "kernelspec": {
   "display_name": "Python 3",
   "language": "python",
   "name": "python3"
  },
  "language_info": {
   "codemirror_mode": {
    "name": "ipython",
    "version": 3
   },
   "file_extension": ".py",
   "mimetype": "text/x-python",
   "name": "python",
   "nbconvert_exporter": "python",
   "pygments_lexer": "ipython3",
   "version": "3.6.10"
  }
 },
 "nbformat": 4,
 "nbformat_minor": 4
}
