{
 "cells": [
  {
   "cell_type": "markdown",
   "metadata": {},
   "source": [
    "<p class=\"alert alert-danger\">\n",
    "    Please make sure that the MongoDb is installed (either in local system or in docker env), and you can access the database using:<br>     \n",
    "</p>\n",
    "<code>> mongo --version</code>\n",
    "<br />\n",
    "<code>> mongo</code>\n"
   ]
  },
  {
   "cell_type": "code",
   "execution_count": 1,
   "metadata": {},
   "outputs": [],
   "source": [
    "# import required libraries\n",
    "import sys\n",
    "import pandas as pd\n",
    "from pymongo import MongoClient"
   ]
  },
  {
   "cell_type": "code",
   "execution_count": 2,
   "metadata": {},
   "outputs": [],
   "source": [
    "# config for the import\n",
    "uri = 'mongodb://localhost:27017/'\n",
    "database = 'zs_database'\n",
    "table = 'stories'\n",
    "filename = '../resources/files/zs.csv'"
   ]
  },
  {
   "cell_type": "code",
   "execution_count": 3,
   "metadata": {},
   "outputs": [],
   "source": [
    "# function to import csv data into db collection\n",
    "def import_to_db(db_uri, db_name, collection_name, csv_file, separator=';', com_engine='python'):\n",
    "    # read csv file as pandas data frame\n",
    "    df = pd.read_csv(csv_file, sep=separator, engine=com_engine)\n",
    "\n",
    "    # filter to include only data with is_published is true\n",
    "    if collection_name == 'stories':\n",
    "        df = df[(df['is_published'] == True)]\n",
    "        \n",
    "    doc_count = 0\n",
    "\n",
    "    # exception handling for database operation\n",
    "    try:\n",
    "        # init mongodb client\n",
    "        client = MongoClient(db_uri)\n",
    "        db = client[db_name]\n",
    "\n",
    "        # check if collection already exists, if so, remove(drop) the collection for now\n",
    "        if collection_name in db.list_collection_names():\n",
    "            collection = db[collection_name]\n",
    "            if collection.estimated_document_count() != 0:\n",
    "                print('Dropping the old collection (' + collection_name + ') ...')\n",
    "                collection.drop()\n",
    "\n",
    "                # TODO: Write an update code instead of drop and create new db.\n",
    "                # However,recreating table is fast, maybe faster than reading each row and adding/updating\n",
    "\n",
    "        # convert pandas data frame into dictionary for db insert\n",
    "        collection = db[collection_name]\n",
    "        data_dict = df.to_dict('records')\n",
    "\n",
    "        # bulk insert collection data\n",
    "        collection.insert_many(data_dict)\n",
    "        doc_count = collection.estimated_document_count()\n",
    "        print('Database import successful')\n",
    "    except:  # TODO: maybe be specific about the exceptions that can occur\n",
    "        print('Unexpected error:', sys.exc_info()[0])\n",
    "        return False\n",
    "        # raise\n",
    "    return doc_count"
   ]
  },
  {
   "cell_type": "code",
   "execution_count": 4,
   "metadata": {},
   "outputs": [
    {
     "name": "stdout",
     "output_type": "stream",
     "text": [
      "Database import successful\n",
      "200 documents were imported into stories collection\n"
     ]
    }
   ],
   "source": [
    "# call the import function\n",
    "doc_count = import_to_db(uri, database, table, filename)\n",
    "\n",
    "if doc_count is not False:\n",
    "    print(str(doc_count) +\" documents were imported into stories collection\");"
   ]
  },
  {
   "cell_type": "code",
   "execution_count": null,
   "metadata": {},
   "outputs": [],
   "source": []
  }
 ],
 "metadata": {
  "kernelspec": {
   "display_name": "Python 3",
   "language": "python",
   "name": "python3"
  },
  "language_info": {
   "codemirror_mode": {
    "name": "ipython",
    "version": 3
   },
   "file_extension": ".py",
   "mimetype": "text/x-python",
   "name": "python",
   "nbconvert_exporter": "python",
   "pygments_lexer": "ipython3",
   "version": "3.6.10"
  }
 },
 "nbformat": 4,
 "nbformat_minor": 4
}
